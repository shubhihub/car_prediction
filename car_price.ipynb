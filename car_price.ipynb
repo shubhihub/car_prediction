{
 "cells": [
  {
   "cell_type": "code",
   "execution_count": 1,
   "id": "92ed5a8c-bb08-4b74-8f1f-eeaa7c4adf95",
   "metadata": {},
   "outputs": [
    {
     "name": "stdout",
     "output_type": "stream",
     "text": [
      "  Car_Name  Year  Selling_Price  Present_Price  Driven_kms Fuel_Type  \\\n",
      "0     ritz  2014           3.35           5.59       27000    Petrol   \n",
      "1      sx4  2013           4.75           9.54       43000    Diesel   \n",
      "2     ciaz  2017           7.25           9.85        6900    Petrol   \n",
      "3  wagon r  2011           2.85           4.15        5200    Petrol   \n",
      "4    swift  2014           4.60           6.87       42450    Diesel   \n",
      "\n",
      "  Selling_type Transmission  Owner  \n",
      "0       Dealer       Manual      0  \n",
      "1       Dealer       Manual      0  \n",
      "2       Dealer       Manual      0  \n",
      "3       Dealer       Manual      0  \n",
      "4       Dealer       Manual      0  \n"
     ]
    }
   ],
   "source": [
    "import pandas as pd\n",
    "\n",
    "# Load the dataset\n",
    "data = pd.read_csv('car data.csv')\n",
    "\n",
    "# Display first few rows\n",
    "print(data.head())\n"
   ]
  },
  {
   "cell_type": "code",
   "execution_count": 2,
   "id": "42d8f2e2-f767-4560-a43a-df07404ac3a1",
   "metadata": {},
   "outputs": [
    {
     "name": "stdout",
     "output_type": "stream",
     "text": [
      "Car_Name         0\n",
      "Year             0\n",
      "Selling_Price    0\n",
      "Present_Price    0\n",
      "Driven_kms       0\n",
      "Fuel_Type        0\n",
      "Selling_type     0\n",
      "Transmission     0\n",
      "Owner            0\n",
      "dtype: int64\n"
     ]
    },
    {
     "name": "stderr",
     "output_type": "stream",
     "text": [
      "C:\\Users\\Shubhi\\AppData\\Local\\Temp\\ipykernel_34060\\2635630906.py:5: FutureWarning: DataFrame.fillna with 'method' is deprecated and will raise in a future version. Use obj.ffill() or obj.bfill() instead.\n",
      "  data = data.fillna(method='ffill')  # Example of forward filling\n"
     ]
    }
   ],
   "source": [
    "# Check for missing values\n",
    "print(data.isnull().sum())\n",
    "\n",
    "# Optionally, you can fill missing values or drop rows/columns\n",
    "data = data.fillna(method='ffill')  # Example of forward filling\n"
   ]
  },
  {
   "cell_type": "code",
   "execution_count": 5,
   "id": "8e652d76-5a6f-464c-a114-fb0ca08e31dc",
   "metadata": {},
   "outputs": [
    {
     "name": "stdout",
     "output_type": "stream",
     "text": [
      "0    90\n",
      "1    93\n",
      "2    68\n",
      "3    96\n",
      "4    92\n",
      "Name: Car_Name, dtype: int64\n"
     ]
    },
    {
     "name": "stderr",
     "output_type": "stream",
     "text": [
      "C:\\Users\\Shubhi\\anaconda3\\Lib\\site-packages\\sklearn\\utils\\validation.py:605: FutureWarning: is_sparse is deprecated and will be removed in a future version. Check `isinstance(dtype, pd.SparseDtype)` instead.\n",
      "  if is_sparse(pd_dtype):\n",
      "C:\\Users\\Shubhi\\anaconda3\\Lib\\site-packages\\sklearn\\utils\\validation.py:614: FutureWarning: is_sparse is deprecated and will be removed in a future version. Check `isinstance(dtype, pd.SparseDtype)` instead.\n",
      "  if is_sparse(pd_dtype) or not is_extension_array_dtype(pd_dtype):\n"
     ]
    }
   ],
   "source": [
    "from sklearn.preprocessing import LabelEncoder\n",
    "\n",
    "# Check if 'Car_Name' exists in the dataset\n",
    "if 'Car_Name' in data.columns:\n",
    "    label_encoder = LabelEncoder()\n",
    "    data['Car_Name'] = label_encoder.fit_transform(data['Car_Name'])  # Encoding car names\n",
    "    print(data['Car_Name'].head())  # Display the first few encoded car names\n",
    "else:\n",
    "    print(\"Column 'Car_Name' not found in the dataset\")\n"
   ]
  },
  {
   "cell_type": "code",
   "execution_count": 7,
   "id": "f86ebff3-fb55-4d62-a04d-90b8af1ec0ce",
   "metadata": {},
   "outputs": [],
   "source": [
    "from sklearn.model_selection import train_test_split\n",
    "\n",
    "X = data[['Car_Name', 'Selling_Price', 'Present_Price', 'Fuel_Type']]  # Example features\n",
    "y = data['Selling_type']  # Target variable\n",
    "\n",
    "X_train, X_test, y_train, y_test = train_test_split(X, y, test_size=0.2, random_state=42)\n"
   ]
  },
  {
   "cell_type": "code",
   "execution_count": 9,
   "id": "3dee8ae9-031a-4237-ab0a-f15dd7c79a93",
   "metadata": {},
   "outputs": [
    {
     "name": "stdout",
     "output_type": "stream",
     "text": [
      "   Car_Name  Year  Selling_Price  Present_Price  Driven_kms  Owner  \\\n",
      "0        90  2014           3.35           5.59       27000      0   \n",
      "1        93  2013           4.75           9.54       43000      0   \n",
      "2        68  2017           7.25           9.85        6900      0   \n",
      "3        96  2011           2.85           4.15        5200      0   \n",
      "4        92  2014           4.60           6.87       42450      0   \n",
      "\n",
      "   Fuel_Type_Diesel  Fuel_Type_Petrol  Selling_type_Individual  \\\n",
      "0             False              True                    False   \n",
      "1              True             False                    False   \n",
      "2             False              True                    False   \n",
      "3             False              True                    False   \n",
      "4              True             False                    False   \n",
      "\n",
      "   Transmission_Manual  \n",
      "0                 True  \n",
      "1                 True  \n",
      "2                 True  \n",
      "3                 True  \n",
      "4                 True  \n"
     ]
    }
   ],
   "source": [
    "# Convert categorical columns to numeric using one-hot encoding\n",
    "data = pd.get_dummies(data, drop_first=True)\n",
    "\n",
    "# Now check the dataset to ensure all columns are numeric\n",
    "print(data.head())\n"
   ]
  },
  {
   "cell_type": "code",
   "execution_count": 10,
   "id": "be1f9d21-2fa8-4762-a6f6-184c6899bc00",
   "metadata": {},
   "outputs": [
    {
     "name": "stdout",
     "output_type": "stream",
     "text": [
      "Car_Name                     int64\n",
      "Year                         int64\n",
      "Selling_Price              float64\n",
      "Present_Price              float64\n",
      "Driven_kms                   int64\n",
      "Owner                        int64\n",
      "Fuel_Type_Diesel              bool\n",
      "Fuel_Type_Petrol              bool\n",
      "Selling_type_Individual       bool\n",
      "Transmission_Manual           bool\n",
      "dtype: object\n"
     ]
    }
   ],
   "source": [
    "print(data.dtypes)\n"
   ]
  },
  {
   "cell_type": "code",
   "execution_count": 14,
   "id": "92669c66-32ca-4553-ae63-e014d27bc0e9",
   "metadata": {},
   "outputs": [
    {
     "data": {
      "image/png": "[encoded data removed]",
      "text/plain": [
       "<Figure size 1000x600 with 1 Axes>"
      ]
     },
     "metadata": {},
     "output_type": "display_data"
    }
   ],
   "source": [
    "import matplotlib.pyplot as plt\n",
    "import seaborn as sns\n",
    "\n",
    "# Scatter plot: Actual vs Predicted\n",
    "plt.figure(figsize=(10,6))\n",
    "plt.scatter(y_test, y_test, alpha=0.5)\n",
    "plt.xlabel('Actual Car Prices')\n",
    "plt.ylabel('Predicted Car Prices')\n",
    "plt.title('Actual vs Predicted Car Prices')\n",
    "plt.show()\n"
   ]
  },
  {
   "cell_type": "code",
   "execution_count": 16,
   "id": "0d9da1f7-b57b-4cc7-8ecb-143d10beb791",
   "metadata": {},
   "outputs": [
    {
     "name": "stderr",
     "output_type": "stream",
     "text": [
      "C:\\Users\\Shubhi\\anaconda3\\Lib\\site-packages\\seaborn\\_oldcore.py:1498: FutureWarning: is_categorical_dtype is deprecated and will be removed in a future version. Use isinstance(dtype, CategoricalDtype) instead\n",
      "  if pd.api.types.is_categorical_dtype(vector):\n",
      "C:\\Users\\Shubhi\\anaconda3\\Lib\\site-packages\\seaborn\\_oldcore.py:1119: FutureWarning: use_inf_as_na option is deprecated and will be removed in a future version. Convert inf values to NaN before operating instead.\n",
      "  with pd.option_context('mode.use_inf_as_na', True):\n"
     ]
    },
    {
     "data": {
      "image/png": "[encoded data removed]",
      "text/plain": [
       "<Figure size 1000x600 with 1 Axes>"
      ]
     },
     "metadata": {},
     "output_type": "display_data"
    }
   ],
   "source": [
    "# Residuals plot\n",
    "residuals = y_test - y_train\n",
    "\n",
    "plt.figure(figsize=(10,6))\n",
    "sns.histplot(residuals, kde=True)\n",
    "plt.xlabel('Residuals')\n",
    "plt.title('Distribution of Residuals')\n",
    "plt.show()\n"
   ]
  },
  {
   "cell_type": "code",
   "execution_count": null,
   "id": "0f4f0b62-5eca-459b-8206-845bba2706b1",
   "metadata": {},
   "outputs": [],
   "source": []
  }
 ],
 "metadata": {
  "kernelspec": {
   "display_name": "Python 3 (ipykernel)",
   "language": "python",
   "name": "python3"
  },
  "language_info": {
   "codemirror_mode": {
    "name": "ipython",
    "version": 3
   },
   "file_extension": ".py",
   "mimetype": "text/x-python",
   "name": "python",
   "nbconvert_exporter": "python",
   "pygments_lexer": "ipython3",
   "version": "3.11.7"
  }
 },
 "nbformat": 4,
 "nbformat_minor": 5
}
